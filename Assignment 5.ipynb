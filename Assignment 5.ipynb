{
 "cells": [
  {
   "cell_type": "markdown",
   "metadata": {},
   "source": [
    "## Try and Except"
   ]
  },
  {
   "cell_type": "code",
   "execution_count": 1,
   "metadata": {},
   "outputs": [
    {
     "name": "stdout",
     "output_type": "stream",
     "text": [
      "Enter the values for a and b for division of a by b\n",
      "2\n",
      "0\n",
      "A number cannot be divided by zero\n"
     ]
    }
   ],
   "source": [
    "#Exception for ZeroDivision Error\n",
    "\n",
    "print(\"Enter the values for a and b for division of a by b\")\n",
    "a = int(input())\n",
    "b = int(input())\n",
    "try:\n",
    "    print(a/b)\n",
    "except ZeroDivisionError:\n",
    "    print(\"A number cannot be divided by zero\")\n"
   ]
  },
  {
   "cell_type": "code",
   "execution_count": 2,
   "metadata": {},
   "outputs": [
    {
     "name": "stdout",
     "output_type": "stream",
     "text": [
      "Enter a numeric string\n",
      "23\n",
      "A string cannot be divided by an integer. Convert the type of string to integer\n"
     ]
    }
   ],
   "source": [
    "#Type error since the input is of type string and we need it to be integer\n",
    "\n",
    "print(\"Enter a numeric string\")\n",
    "a = input()\n",
    "try:\n",
    "    print(a/3)\n",
    "except TypeError:\n",
    "    print(\"A string cannot be divided by an integer. Convert the type of string to integer\")\n",
    "\n"
   ]
  },
  {
   "cell_type": "code",
   "execution_count": 3,
   "metadata": {},
   "outputs": [
    {
     "name": "stdout",
     "output_type": "stream",
     "text": [
      "Enter a file you want to read\n",
      "file\n",
      "This file is not present in the current directory !! Create A File\n",
      "Create A File in working directry or give a proper path\n"
     ]
    }
   ],
   "source": [
    "#If you don't know which type of exception to raise, then don't specify the exception name\n",
    "\n",
    "print(\"Enter a file you want to read\")\n",
    "a = input()\n",
    "try:\n",
    "    f = open(a, \"r\")\n",
    "    m = f.read()\n",
    "    print(\"This is the content of your file\")\n",
    "    print(m)\n",
    "except:\n",
    "    print(\"This file is not present in the current directory !! Create A File\")\n",
    "finally:\n",
    "    print(\"Create A File in working directry or give a proper path\")\n"
   ]
  },
  {
   "cell_type": "code",
   "execution_count": 4,
   "metadata": {},
   "outputs": [
    {
     "name": "stdout",
     "output_type": "stream",
     "text": [
      "Error: Could not find file or read data\n"
     ]
    }
   ],
   "source": [
    "#Error when do not have a some permissions for the files (IO exception)\n",
    "\n",
    "try:\n",
    "    f = open('file','r')\n",
    "    f.write('PPL assignment testing file')\n",
    "except IOError:\n",
    "    print(\"Error: Could not find file or read data\")\n",
    "else:\n",
    "    print(\"Content written successfully\")\n",
    "    f.close() "
   ]
  },
  {
   "cell_type": "code",
   "execution_count": 5,
   "metadata": {},
   "outputs": [
    {
     "name": "stdout",
     "output_type": "stream",
     "text": [
      "Input an integer: 1.3\n",
      "An error occurred! Please enter a interger!\n",
      "Input an integer: 2\n",
      "Thank you, square of given number is:  4\n"
     ]
    }
   ],
   "source": [
    "#we can also create functions using try except block. And it will run until user provides the expected input\n",
    "\n",
    "def ask():\n",
    "    \n",
    "    while True:\n",
    "        try:\n",
    "            n = int(input('Input an integer: '))\n",
    "        except:\n",
    "            print('An error occurred! Please enter a interger!')\n",
    "            continue\n",
    "        else:\n",
    "            break\n",
    "            \n",
    "        \n",
    "    print('Thank you, square of given number is: ',n**2)\n",
    "\n",
    "ask()"
   ]
  },
  {
   "cell_type": "code",
   "execution_count": null,
   "metadata": {},
   "outputs": [],
   "source": []
  }
 ],
 "metadata": {
  "kernelspec": {
   "display_name": "Python 3",
   "language": "python",
   "name": "python3"
  },
  "language_info": {
   "codemirror_mode": {
    "name": "ipython",
    "version": 3
   },
   "file_extension": ".py",
   "mimetype": "text/x-python",
   "name": "python",
   "nbconvert_exporter": "python",
   "pygments_lexer": "ipython3",
   "version": "3.7.1"
  }
 },
 "nbformat": 4,
 "nbformat_minor": 2
}
