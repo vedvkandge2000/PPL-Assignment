{
 "cells": [
  {
   "cell_type": "markdown",
   "metadata": {},
   "source": [
    "## Python OOP Concepts and inheritance"
   ]
  },
  {
   "cell_type": "markdown",
   "metadata": {},
   "source": [
    "### Animal"
   ]
  },
  {
   "cell_type": "code",
   "execution_count": 1,
   "metadata": {},
   "outputs": [],
   "source": [
    "from abc import ABC, abstractmethod\n",
    "class Bird: # Base Class\n",
    "    def __init__(self, species, sub_species = None):\n",
    "\n",
    "        self.__class = \"Aves\"  # Private class\n",
    "        self.__species = species\n",
    "        self.__subspecies = None\n",
    "        self.__flying = None\n",
    "        self.__color = None\n",
    "        self.__size = None\n",
    "        self.__beak = None\n",
    "        self.__special = None\n",
    "        self.__sound = None\n",
    "\n",
    "    def set_flying(self, b):\n",
    "        self.__flying = b\n",
    "\n",
    "    def is_flying(self):\n",
    "        return self.__flying\n",
    "\n",
    "    def speciality(self):\n",
    "        print(\"Speciality of {}:\\n Color : {}.\\n Size : {}.\\n Beak : {}.\\n {}\".format(self.__species, self.__color, self.__size, self.__beak, self.__special))\n",
    "\n",
    "    def set_speciality(self, color, size, beak, special = None):\n",
    "        self.__color = color\n",
    "        self.__size = size\n",
    "        self.__beak = beak\n",
    "        self.__special = special\n",
    "\n",
    "    def set_sound(self, sound):\n",
    "        self.__sound = sound\n",
    "\n",
    "    def get_sound(self):\n",
    "        print(\"Sound of {} is {}\".format(self.__species, self.__sound))\n"
   ]
  },
  {
   "cell_type": "code",
   "execution_count": 2,
   "metadata": {},
   "outputs": [],
   "source": [
    "class Eagle(Bird):\n",
    "\n",
    "    def __init__(self, sub_species):\n",
    "        super().__init__(\"Eagle\", sub_species)\n",
    "        self.__wingspan = None\n",
    "        self.set_sound(\"Kleek Kleek\")\n",
    "\n",
    "    def set_wingspan(self, w):\n",
    "        self.__wingspan = w\n",
    "\n",
    "    def get_wingspan(self):\n",
    "        print(\"Wingspan is {} meters.\".format(Self.__wingspan))\n"
   ]
  },
  {
   "cell_type": "code",
   "execution_count": 3,
   "metadata": {},
   "outputs": [],
   "source": [
    "class Peacock(Bird):\n",
    "\n",
    "    def __init__(self):\n",
    "        super().__init__(\"Peacock\")\n",
    "        self.set_sound(\"Meow\")\n",
    "        self.__plumage = None\n",
    "\n",
    "    def set_plumage(self, val):\n",
    "        self.__plumage = val\n",
    "\n",
    "    def is_plumage_spread(self, val):\n",
    "        return self.__plumage"
   ]
  },
  {
   "cell_type": "code",
   "execution_count": 4,
   "metadata": {},
   "outputs": [],
   "source": [
    "class Elephant(ABC): # Base Class\n",
    "\n",
    "    @abstractmethod\n",
    "    def __init__(self, gender, age):\n",
    "        self._gender = gender\n",
    "        self._age = age\n",
    "        self.__tusks = None\n",
    "\n",
    "    @abstractmethod\n",
    "    def set_ears(self, ears):\n",
    "        self.__ears = ears\n",
    "\n",
    "    def set_tusks(self, b):\n",
    "        self.__tusks = b\n",
    "\n",
    "    def get_tusks(self):\n",
    "        return self.__tusks\n",
    "\n",
    "    def set_species(self, species):\n",
    "        self._species = species\n",
    "\n",
    "    def speciality(self):\n",
    "        pass\n"
   ]
  },
  {
   "cell_type": "code",
   "execution_count": 5,
   "metadata": {},
   "outputs": [],
   "source": [
    "class Asian_Elephant(Elephant):\n",
    "\n",
    "    def __init__(self, gender, age):\n",
    "           super().__init__(gender, age)\n",
    "           super().set_species(\"Asian Elephant\")\n",
    "           self.__size = \"Smaller than African Elephants\"\n",
    "           self.__weight = None\n",
    "    def set_ears(self, ears):\n",
    "        self.__ears = ears\n",
    "    def set_weight(self, w = None):\n",
    "        self.__weight = w\n",
    "    def get_weight(self, w = None):\n",
    "        print(\"Weight : {} kg\".format(self.__weight))\n",
    "    def speciality(self):\n",
    "        print(\"Speciality of {}:\\n  Ears : {}. \\nSize: {}.\".format(self._species, self.__ears, self.__size))\n",
    "    def describe(self):\n",
    "        print(\"{}\\n {} yrs\\n {}\\n {} kg\".format(self._species, self._age, self._gender, self.__weight))\n"
   ]
  },
  {
   "cell_type": "code",
   "execution_count": 6,
   "metadata": {},
   "outputs": [],
   "source": [
    "class African_Elephant(Elephant):\n",
    "\n",
    "    def __init__(self, gender, age):\n",
    "        super().__init__(gender, age)\n",
    "        super().set_species(\"African Elephant\")\n",
    "        self.__size = \"Larger than Asian Elephants\"\n",
    "        self.__weight = None\n",
    "    def set_ears(self, ears):\n",
    "        self.__ears = ears\n",
    "    def set_weight(self, w = None):\n",
    "        self.__weight = w\n",
    "    def get_weight(self, w = None):\n",
    "        print(\"Weight : {} kg\".format(self.__weight))\n",
    "    def speciality(self):\n",
    "        print(\"Speciality of {}:\\n  Ears : {}. \\nSize: {}.\".format(self._species, self.__ears, self.__size))\n",
    "    def describe(self):\n",
    "        print(\"{}\\n {} yrs\\n{}\\n {} kg\".format(self._species, self._age, self._gender, self.__weight))\n"
   ]
  },
  {
   "cell_type": "code",
   "execution_count": 7,
   "metadata": {},
   "outputs": [],
   "source": [
    "class Dog: #Base Class\n",
    "    \n",
    "    def __init__(self, name, age):\n",
    "        self.Class = 'Mammal'\n",
    "        self.__name = name\n",
    "        self.__age = age\n",
    "        self.__breed = None\n",
    "        self.__color = None\n",
    "        self.__voice = 'Barks'\n",
    "        self.__running = None\n",
    "        self._tail = None\n",
    "        self._height = None\n",
    "        self._skin = None\n",
    "\n",
    "    def get_sound(self):\n",
    "        print(\"Dog {}.\".format(self.__voice))\n",
    "\n",
    "    def set_breed(self, breed):\n",
    "        self.__breed = breed\n",
    "\n",
    "    def get_breed(self):\n",
    "        print(\"Breed of dog is : {}.\".format(self.__breed))\n",
    "\n",
    "    def set_color(self, color):\n",
    "        self.__color = color\n",
    "\n",
    "    def get_color(self):\n",
    "        print(\"Color of Dog is : {}.\".format(self.__color))\n",
    "\n",
    "    def speciality(self, tail, height, skin):\n",
    "        self._tail = tail\n",
    "        self._height = height\n",
    "        self._skin = skin\n",
    "\n",
    "    def running(self, boolean):\n",
    "        self.__running = boolean\n",
    "\n",
    "    def is_running(self):\n",
    "        return self.__running\n",
    "\n",
    "    def describe(self):\n",
    "        print(\"Species : {}\\nAnimal : Dog\\nBreed : {}\\nName : {}\\nAge : {} yrs\".format(self.Class, self.__breed, self.__name, self.__age))\n"
   ]
  },
  {
   "cell_type": "code",
   "execution_count": 8,
   "metadata": {},
   "outputs": [],
   "source": [
    "class Labrador(Dog):\n",
    "\n",
    "    def __init__(self, name, age):\n",
    "        super().__init__(name, age)\n",
    "        self.set_breed(\"Labrador\")\n",
    "        super().speciality(\"Long Hairy Tail\", \"Medium Height\", \"Hairy Skin\")\n",
    "\n",
    "    def get_speciality(self):\n",
    "        print(\"Speciality of Labrador breed :\\n {} \\n {} \\n {}\".format(self._height, self._tail, self._skin))\n"
   ]
  },
  {
   "cell_type": "code",
   "execution_count": 9,
   "metadata": {},
   "outputs": [],
   "source": [
    "class Doberman(Dog):\n",
    "    def __init__(self, name, age):\n",
    "        super().__init__(name, age)\n",
    "        self.set_breed(\"Doberman\")\n",
    "        super().speciality(\"Short Tail\", \"Tall Height\", \"Less fur\")\n",
    "\n",
    "    def get_speciality(self):\n",
    "        print(\"Speciality of Doberman breed :\\n {} \\n {} \\n {}\".format(self._height, self._tail, self._skin))\n"
   ]
  },
  {
   "cell_type": "code",
   "execution_count": 10,
   "metadata": {},
   "outputs": [],
   "source": [
    "class Pug(Dog):\n",
    "    def __init__(self, name, age):\n",
    "        super().__init__(name, age)\n",
    "        self.set_breed(\"Pug\")\n",
    "        super().speciality(\"Short Tail\", \"Short Height\", \"Moderate fur\")\n",
    "\n",
    "    def get_speciality(self):\n",
    "        print(\"Speciality of Pug breed :\\n {} \\n {} \\n {}\".format(self._height, self._tail, self._skin))"
   ]
  },
  {
   "cell_type": "code",
   "execution_count": 12,
   "metadata": {},
   "outputs": [
    {
     "name": "stdout",
     "output_type": "stream",
     "text": [
      "Speciality of Eagle:\n",
      " Color : Dark Brown.\n",
      " Size : Large.\n",
      " Beak : Curved Yellow Beak.\n",
      " White Neck\n"
     ]
    },
    {
     "ename": "AttributeError",
     "evalue": "'Eagle' object has no attribute 'wingspan'",
     "output_type": "error",
     "traceback": [
      "\u001b[1;31m---------------------------------------------------------------------------\u001b[0m",
      "\u001b[1;31mAttributeError\u001b[0m                            Traceback (most recent call last)",
      "\u001b[1;32m<ipython-input-12-344d607f611e>\u001b[0m in \u001b[0;36m<module>\u001b[1;34m\u001b[0m\n\u001b[0;32m      3\u001b[0m \u001b[0mb1\u001b[0m\u001b[1;33m.\u001b[0m\u001b[0mset_speciality\u001b[0m\u001b[1;33m(\u001b[0m\u001b[1;34m\"Dark Brown\"\u001b[0m\u001b[1;33m,\u001b[0m \u001b[1;34m\"Large\"\u001b[0m\u001b[1;33m,\u001b[0m \u001b[1;34m\"Curved Yellow Beak\"\u001b[0m\u001b[1;33m,\u001b[0m \u001b[1;34m\"White Neck\"\u001b[0m\u001b[1;33m)\u001b[0m\u001b[1;33m\u001b[0m\u001b[1;33m\u001b[0m\u001b[0m\n\u001b[0;32m      4\u001b[0m \u001b[0mb1\u001b[0m\u001b[1;33m.\u001b[0m\u001b[0mspeciality\u001b[0m\u001b[1;33m(\u001b[0m\u001b[1;33m)\u001b[0m\u001b[1;33m\u001b[0m\u001b[1;33m\u001b[0m\u001b[0m\n\u001b[1;32m----> 5\u001b[1;33m \u001b[0mb1\u001b[0m\u001b[1;33m.\u001b[0m\u001b[0mwingspan\u001b[0m\u001b[1;33m\u001b[0m\u001b[1;33m\u001b[0m\u001b[0m\n\u001b[0m",
      "\u001b[1;31mAttributeError\u001b[0m: 'Eagle' object has no attribute 'wingspan'"
     ]
    }
   ],
   "source": [
    "b1 = Eagle(\"Bald Eagle\")\n",
    "b1.set_flying(True)\n",
    "b1.set_speciality(\"Dark Brown\", \"Large\", \"Curved Yellow Beak\", \"White Neck\")\n",
    "b1.speciality()\n",
    "b1.wingspan # Private Attribute"
   ]
  },
  {
   "cell_type": "code",
   "execution_count": 13,
   "metadata": {},
   "outputs": [
    {
     "name": "stdout",
     "output_type": "stream",
     "text": [
      "Speciality of Peacock:\n",
      " Color : Blue.\n",
      " Size : Large.\n",
      " Beak : Small Beak.\n",
      " Beautiful Plumage\n",
      "\n",
      "\n"
     ]
    }
   ],
   "source": [
    "p1 = Peacock()\n",
    "p1.set_sound(\"Meow\")\n",
    "p1.set_speciality(\"Blue\", \"Large\", \"Small Beak\", \"Beautiful Plumage\")\n",
    "p1.speciality()\n",
    "p1.set_plumage(True)\n",
    "print(\"\\n\")"
   ]
  },
  {
   "cell_type": "code",
   "execution_count": 14,
   "metadata": {},
   "outputs": [
    {
     "name": "stdout",
     "output_type": "stream",
     "text": [
      "Asian Elephant\n",
      " 5 yrs\n",
      " Female\n",
      " 5500 kg\n",
      "Speciality of Asian Elephant:\n",
      "  Ears : Smaller Ears. \n",
      "Size: Smaller than African Elephants.\n",
      "\n",
      "\n"
     ]
    }
   ],
   "source": [
    "e1 = Asian_Elephant(\"Female\", 5)\n",
    "e1.set_ears(\"Smaller Ears\")\n",
    "e1.set_tusks(False)\n",
    "e1.set_weight(5500)\n",
    "e1.describe()\n",
    "e1.speciality()\n",
    "print(\"\\n\")"
   ]
  },
  {
   "cell_type": "code",
   "execution_count": 15,
   "metadata": {},
   "outputs": [
    {
     "name": "stdout",
     "output_type": "stream",
     "text": [
      "African Elephant\n",
      " 3 yrs\n",
      "Male\n",
      " 8000 kg\n",
      "Speciality of African Elephant:\n",
      "  Ears : Larger Ears. \n",
      "Size: Larger than Asian Elephants.\n",
      "\n",
      "\n"
     ]
    }
   ],
   "source": [
    "e2 = African_Elephant(\"Male\", 3)\n",
    "e2.set_ears(\"Larger Ears\")\n",
    "e2.set_tusks(True)\n",
    "e2.set_weight(8000)\n",
    "e2.describe()\n",
    "e2.speciality()\n",
    "print(\"\\n\")"
   ]
  },
  {
   "cell_type": "code",
   "execution_count": 21,
   "metadata": {},
   "outputs": [
    {
     "name": "stdout",
     "output_type": "stream",
     "text": [
      "Species : Mammal\n",
      "Animal : Dog\n",
      "Breed : None\n",
      "Name : Tommy\n",
      "Age : 3 yrs\n",
      "\n",
      "\n"
     ]
    },
    {
     "data": {
      "text/plain": [
       "'Mammal'"
      ]
     },
     "execution_count": 21,
     "metadata": {},
     "output_type": "execute_result"
    }
   ],
   "source": [
    "d1 = Dog(\"Tommy\", 3)\n",
    "d1.set_color('Brown-White')\n",
    "d1.describe()\n",
    "print(\"\\n\")\n",
    "d1.Class"
   ]
  },
  {
   "cell_type": "code",
   "execution_count": 22,
   "metadata": {},
   "outputs": [
    {
     "name": "stdout",
     "output_type": "stream",
     "text": [
      "Species : Mammal\n",
      "Animal : Dog\n",
      "Breed : Labrador\n",
      "Name : Jimmy\n",
      "Age : 4 yrs\n",
      "Speciality of Labrador breed :\n",
      " Medium Height \n",
      " Long Hairy Tail \n",
      " Hairy Skin\n",
      "\n",
      "\n"
     ]
    }
   ],
   "source": [
    "l = Labrador(\"Jimmy\", 4)\n",
    "l.set_color(\"Brown-White\")\n",
    "l.describe()\n",
    "l.get_speciality()\n",
    "print(\"\\n\")"
   ]
  },
  {
   "cell_type": "code",
   "execution_count": 23,
   "metadata": {},
   "outputs": [
    {
     "name": "stdout",
     "output_type": "stream",
     "text": [
      "Species : Mammal\n",
      "Animal : Dog\n",
      "Breed : Doberman\n",
      "Name : Mike\n",
      "Age : 3.5 yrs\n",
      "Speciality of Doberman breed :\n",
      " Tall Height \n",
      " Short Tail \n",
      " Less fur\n",
      "\n",
      "\n"
     ]
    }
   ],
   "source": [
    "d = Doberman(\"Mike\", 3.5)\n",
    "d.describe()\n",
    "d.get_speciality()\n",
    "print(\"\\n\")"
   ]
  },
  {
   "cell_type": "code",
   "execution_count": 25,
   "metadata": {},
   "outputs": [
    {
     "name": "stdout",
     "output_type": "stream",
     "text": [
      "Species : Mammal\n",
      "Animal : Dog\n",
      "Breed : Pug\n",
      "Name : Leo\n",
      "Age : 2 yrs\n",
      "Speciality of Pug breed :\n",
      " Short Height \n",
      " Short Tail \n",
      " Moderate fur\n",
      "\n",
      "\n"
     ]
    },
    {
     "data": {
      "text/plain": [
       "'Mammal'"
      ]
     },
     "execution_count": 25,
     "metadata": {},
     "output_type": "execute_result"
    }
   ],
   "source": [
    "p = Pug(\"Leo\", 2)\n",
    "p.set_color(\"White\")\n",
    "p.describe()\n",
    "p.get_speciality()\n",
    "print(\"\\n\")\n",
    "p.Class"
   ]
  },
  {
   "cell_type": "code",
   "execution_count": null,
   "metadata": {},
   "outputs": [],
   "source": []
  }
 ],
 "metadata": {
  "kernelspec": {
   "display_name": "Python 3",
   "language": "python",
   "name": "python3"
  },
  "language_info": {
   "codemirror_mode": {
    "name": "ipython",
    "version": 3
   },
   "file_extension": ".py",
   "mimetype": "text/x-python",
   "name": "python",
   "nbconvert_exporter": "python",
   "pygments_lexer": "ipython3",
   "version": "3.7.1"
  }
 },
 "nbformat": 4,
 "nbformat_minor": 2
}
