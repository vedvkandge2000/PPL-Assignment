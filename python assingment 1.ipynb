{
 "cells": [
  {
   "cell_type": "markdown",
   "metadata": {},
   "source": [
    "Question 1"
   ]
  },
  {
   "cell_type": "code",
   "execution_count": null,
   "metadata": {},
   "outputs": [],
   "source": [
    "import random\n",
    "sideone = ['Tiger', 'goat', 'grass']\n",
    "sidetwo = []\n",
    "present = True"
   ]
  },
  {
   "cell_type": "code",
   "execution_count": null,
   "metadata": {},
   "outputs": [],
   "source": [
    "def valid_check(side):\n",
    "    if ('grass' in side) and ('goat' in side):\n",
    "        return False\n",
    "    elif ('goat' in side) and ('Tiger' in side):\n",
    "        return False\n",
    "    else:\n",
    "        return True"
   ]
  },
  {
   "cell_type": "code",
   "execution_count": null,
   "metadata": {},
   "outputs": [],
   "source": [
    "count = 0\n",
    "while(not(('goat' in sidetwo) and ('grass' in sidetwo) and ('Tiger' in sidetwo))):\n",
    "    count +=1\n",
    "    if(present == True):\n",
    "        animal = random.choice(sideone)\n",
    "        sideone.remove(animal)\n",
    "        #print(\"********\", animal)\n",
    "        if(valid_check(sideone) == False):\n",
    "            sideone.append(animal)\n",
    "        else:\n",
    "            sidetwo.append(animal)\n",
    "            present = False\n",
    "    else:\n",
    "        if(valid_check(sidetwo) == False):\n",
    "            animal = sidetwo.pop(0)\n",
    "            sideone.append(animal)\n",
    "        present = True\n",
    "    print(\"side: \", present)\n",
    "    print(\"sideone: \", sideone) \n",
    "    print(\"sidetwo: \", sidetwo)\n",
    "    print(\"*\" * 20)\n",
    "print(count)\n",
    "            "
   ]
  },
  {
   "cell_type": "markdown",
   "metadata": {},
   "source": [
    "Question 2"
   ]
  },
  {
   "cell_type": "code",
   "execution_count": null,
   "metadata": {},
   "outputs": [],
   "source": [
    "import random"
   ]
  },
  {
   "cell_type": "code",
   "execution_count": null,
   "metadata": {},
   "outputs": [],
   "source": [
    "while True:\n",
    "    print(\"\\nvalue: {}\".format(random.randint(1, 6)))\n",
    "    ans = input(\"do you want to continue?(y/n)\\t\")\n",
    "    if ans == 'y':\n",
    "        continue\n",
    "    else:\n",
    "        break"
   ]
  },
  {
   "cell_type": "markdown",
   "metadata": {},
   "source": [
    "Question 3"
   ]
  },
  {
   "cell_type": "code",
   "execution_count": null,
   "metadata": {},
   "outputs": [],
   "source": [
    "def check(website):\n",
    "    if ('facebook' in website or 'instagram' in website):\n",
    "        return True\n",
    "    else:\n",
    "        return False"
   ]
  },
  {
   "cell_type": "code",
   "execution_count": null,
   "metadata": {},
   "outputs": [],
   "source": [
    "website = input(\"Enter a website:\\n\")\n",
    "if(check(website)):\n",
    "    print(\"Entered website is blocked\")"
   ]
  },
  {
   "cell_type": "markdown",
   "metadata": {},
   "source": [
    "Question 4"
   ]
  },
  {
   "cell_type": "code",
   "execution_count": null,
   "metadata": {},
   "outputs": [],
   "source": [
    "import random as r\n",
    "x = r.randint(1, 100)"
   ]
  },
  {
   "cell_type": "code",
   "execution_count": null,
   "metadata": {},
   "outputs": [],
   "source": [
    "x"
   ]
  },
  {
   "cell_type": "code",
   "execution_count": null,
   "metadata": {
    "scrolled": true
   },
   "outputs": [],
   "source": [
    "flag = 0\n",
    "for i in range(3):\n",
    "    if(i == 2):\n",
    "        print(\"Last chance\")\n",
    "    else:\n",
    "        print(\"{} st chance\".format(i+1))\n",
    "    num = int(input(\"Guess the number between 1 to 100: \"))\n",
    "    if(num == x):\n",
    "        print(\"Your Guess is correct!!\")\n",
    "        flag = 1\n",
    "        break\n",
    "    elif(num < x):\n",
    "        print(\"Your number is smaller than the actual.Try Again\")\n",
    "    elif(num  > x):\n",
    "        print(\"Your number is greater than the actual.Try Again\")\n",
    "if(flag == 0):\n",
    "    print(\"Number is: \", x)"
   ]
  },
  {
   "cell_type": "markdown",
   "metadata": {},
   "source": [
    "Question 5"
   ]
  },
  {
   "cell_type": "code",
   "execution_count": null,
   "metadata": {},
   "outputs": [],
   "source": [
    "l = []\n",
    "while(True):\n",
    "    n = str(input(\"Enter page: \"))\n",
    "    if(n == '-1'):\n",
    "        break\n",
    "    l.append(n)"
   ]
  },
  {
   "cell_type": "code",
   "execution_count": null,
   "metadata": {},
   "outputs": [],
   "source": [
    "x = []\n",
    "for page in l:\n",
    "    if('-' in page):\n",
    "        x.extend(range(int(page.split('-')[0]), int(page.split('-')[1])+1))\n",
    "    else:\n",
    "        x.append(int(page))\n",
    "missing = list(set([n for n in range(1,26)]) - set(x))\n",
    "missing"
   ]
  },
  {
   "cell_type": "markdown",
   "metadata": {},
   "source": [
    "Question 6"
   ]
  },
  {
   "cell_type": "code",
   "execution_count": null,
   "metadata": {},
   "outputs": [],
   "source": [
    "def sum_divisors(n):\n",
    "    l = []\n",
    "    for i in range(1, n // 2 + 1):\n",
    "        if n % i == 0:\n",
    "            l.append(i)\n",
    "    return sum(l)\n",
    "    \n",
    "count = 0\n",
    "for i in range(1, 100000):\n",
    "    a = sum_divisors(i)\n",
    "    b = sum_divisors(a)\n",
    "    if a <= i:\n",
    "        continue\n",
    "    if b == i:\n",
    "        print(i, \"and\", a)\n",
    "        count += 1\n",
    "    if count == 9:\n",
    "        break\n"
   ]
  },
  {
   "cell_type": "markdown",
   "metadata": {},
   "source": [
    "Question 7"
   ]
  },
  {
   "cell_type": "code",
   "execution_count": null,
   "metadata": {},
   "outputs": [],
   "source": [
    "start, end = input(\"enter start and end point:\\n\").split()\n",
    "a = []\n",
    "for num in range(int(start),int(end)+1):\n",
    "    l = list(map(lambda x: x ** 3, [int(i) for i in str(num)]))\n",
    "    if(sum(l) == num):\n",
    "        a.append(num)\n",
    "print(\"Amstrong Numbers are:\")\n",
    "print(a)    \n",
    "    "
   ]
  },
  {
   "cell_type": "markdown",
   "metadata": {},
   "source": [
    "Question 8"
   ]
  },
  {
   "cell_type": "code",
   "execution_count": null,
   "metadata": {},
   "outputs": [],
   "source": [
    "import numpy as np"
   ]
  },
  {
   "cell_type": "code",
   "execution_count": null,
   "metadata": {},
   "outputs": [],
   "source": [
    "def LUdecomposition(a, n):\n",
    "    lower = [[0 for x in range(n)]  \n",
    "            for y in range(n)]\n",
    "    upper = [[0 for x in range(n)]  \n",
    "            for y in range(n)]\n",
    "    \n",
    "    for i in range(n) :\n",
    "    \n",
    "        for k in range(i, n):\n",
    "            sum = 0\n",
    "            for j in range(i):\n",
    "                sum += (lower[i][j] * upper[j][k])\n",
    "            \n",
    "            upper[i][k] = a[i][k] - sum\n",
    "    \n",
    "        for k in range(i, n):\n",
    "            if(i == k):\n",
    "                lower[i][i] = 1\n",
    "            else:\n",
    "                sum = 0\n",
    "                for j in range(i):\n",
    "                    sum += (lower[k][j] * upper[j][i])\n",
    "                lower[k][i] = (a[k][i] - sum)/(upper[i][i])\n",
    "        \n",
    "    upper = np.array(upper)\n",
    "    lower = np.array(lower)\n",
    "    print(\"U:\\n\", upper)\n",
    "    print(\"L:\\n\", lower)"
   ]
  },
  {
   "cell_type": "code",
   "execution_count": null,
   "metadata": {},
   "outputs": [],
   "source": [
    "n = int(input(\"Enter a size of matrix:\\n\"))\n",
    "a = np.zeros((n, n))\n",
    "for i in range(n):\n",
    "    row = []\n",
    "    row = list(map(int, input(\"Enter a \" + str(i) + \" row of matrix: \").strip().split()))\n",
    "    for j, val in zip(range(n), row):\n",
    "        a[i][j] = val\n",
    "print(\"Matrix is:\\n\", a)\n",
    "LUdecomposition(a, n)"
   ]
  },
  {
   "cell_type": "markdown",
   "metadata": {},
   "source": [
    "Question 9"
   ]
  },
  {
   "cell_type": "code",
   "execution_count": null,
   "metadata": {},
   "outputs": [],
   "source": [
    "def is_integer_num(n):\n",
    "    if isinstance(n, int):\n",
    "        return True\n",
    "    if isinstance(n, float):\n",
    "        return n.is_integer()\n",
    "    return False"
   ]
  },
  {
   "cell_type": "code",
   "execution_count": null,
   "metadata": {},
   "outputs": [],
   "source": [
    "divisor = []\n",
    "har_num = []\n",
    "count = 0\n",
    "import statistics \n",
    "for i in range (1, 10000):\n",
    "    if count >= 10:\n",
    "        break\n",
    "    divisor = [j for j in range(1, i + 1) if i % j == 0]\n",
    "    #print(divisor)\n",
    "    num = (statistics.harmonic_mean(divisor))\n",
    "    #print((num))\n",
    "    if is_integer_num(num):\n",
    "        har_num.append(int(i))\n",
    "    "
   ]
  },
  {
   "cell_type": "code",
   "execution_count": null,
   "metadata": {},
   "outputs": [],
   "source": [
    "print(har_num)"
   ]
  },
  {
   "cell_type": "markdown",
   "metadata": {},
   "source": [
    "Question 10"
   ]
  },
  {
   "cell_type": "code",
   "execution_count": null,
   "metadata": {},
   "outputs": [],
   "source": [
    "a = float(input(\"Enter a starting number: \"))\n",
    "r  = float(input(\"Enter a common ratio: \"))\n",
    "i = 0\n",
    "print(\"Geometric series starting with {} and with comman difference of {} is:\\n\".format(a, r))\n",
    "l = [a * (pow(r,n)) for n in range(10)]\n",
    "print(l)\n",
    "sum(l)"
   ]
  },
  {
   "cell_type": "code",
   "execution_count": null,
   "metadata": {},
   "outputs": [],
   "source": []
  },
  {
   "cell_type": "code",
   "execution_count": null,
   "metadata": {},
   "outputs": [],
   "source": []
  }
 ],
 "metadata": {
  "kernelspec": {
   "display_name": "Python 3",
   "language": "python",
   "name": "python3"
  },
  "language_info": {
   "codemirror_mode": {
    "name": "ipython",
    "version": 3
   },
   "file_extension": ".py",
   "mimetype": "text/x-python",
   "name": "python",
   "nbconvert_exporter": "python",
   "pygments_lexer": "ipython3",
   "version": "3.7.1"
  }
 },
 "nbformat": 4,
 "nbformat_minor": 2
}
